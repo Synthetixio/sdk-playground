{
 "cells": [
  {
   "cell_type": "markdown",
   "metadata": {},
   "source": [
    "# Synthetix V3\n"
   ]
  },
  {
   "cell_type": "code",
   "execution_count": null,
   "metadata": {},
   "outputs": [],
   "source": [
    "import os\n",
    "import time\n",
    "from synthetix import Synthetix\n",
    "from synthetix.utils import wei_to_ether, ether_to_wei, format_wei, format_ether\n",
    "from dotenv import load_dotenv\n",
    "\n",
    "load_dotenv()"
   ]
  },
  {
   "cell_type": "code",
   "execution_count": null,
   "metadata": {},
   "outputs": [],
   "source": [
    "snx = Synthetix(\n",
    "    provider_rpc=os.getenv(\"LOCAL_RPC\"),\n",
    "    is_fork=True,\n",
    "    cannon_config={\n",
    "        \"package\": \"synthetix-omnibus\",\n",
    "        \"version\": \"latest\",\n",
    "        \"preset\": \"octopus\",\n",
    "    },\n",
    ")"
   ]
  },
  {
   "cell_type": "markdown",
   "metadata": {},
   "source": [
    "### Setup\n"
   ]
  },
  {
   "cell_type": "code",
   "execution_count": null,
   "metadata": {},
   "outputs": [],
   "source": [
    "# get some contracts\n",
    "usdx = snx.spot.markets_by_id[0][\"contract\"]\n",
    "weth = snx.contracts[\"WETH\"][\"contract\"]\n",
    "\n",
    "# USDC token\n",
    "usdc_package = snx.contracts[\"usdc_mock_collateral\"][\"MintableToken\"]\n",
    "usdc = snx.web3.eth.contract(address=usdc_package[\"address\"], abi=usdc_package[\"abi\"])\n",
    "\n",
    "# BTC token\n",
    "btc_package = snx.contracts[\"btc_mock_collateral\"][\"MintableToken\"]\n",
    "btc = snx.web3.eth.contract(address=btc_package[\"address\"], abi=btc_package[\"abi\"])"
   ]
  },
  {
   "cell_type": "code",
   "execution_count": null,
   "metadata": {},
   "outputs": [],
   "source": [
    "def status():\n",
    "    \"\"\"A function printing some useful information about the connected account\"\"\"\n",
    "    eth_balance = snx.get_eth_balance()\n",
    "    susd_balance = snx.spot.get_balance(market_name=\"sUSD\")\n",
    "\n",
    "    usdc_balance = usdc.functions.balanceOf(snx.address).call()\n",
    "    usdc_balance = format_wei(usdc_balance, 6)\n",
    "\n",
    "    btc_balance = btc.functions.balanceOf(snx.address).call()\n",
    "    btc_balance = format_wei(btc_balance, 18)\n",
    "\n",
    "    print(\n",
    "        f\"\"\"\n",
    "    Perps accounts: {snx.perps.account_ids}\n",
    "    Core accounts: {snx.core.account_ids}\n",
    "        \n",
    "    ETH: {eth_balance['eth']}\n",
    "    WETH ({weth.address}): {eth_balance['weth']}\n",
    "    sUSD: {susd_balance}\n",
    "    USDC ({usdc.address}): {usdc_balance}\n",
    "    BTC ({btc.address}): {btc_balance}\n",
    "    \"\"\"\n",
    "    )\n",
    "\n",
    "\n",
    "status()"
   ]
  }
 ],
 "metadata": {
  "kernelspec": {
   "display_name": "env",
   "language": "python",
   "name": "python3"
  },
  "language_info": {
   "codemirror_mode": {
    "name": "ipython",
    "version": 3
   },
   "file_extension": ".py",
   "mimetype": "text/x-python",
   "name": "python",
   "nbconvert_exporter": "python",
   "pygments_lexer": "ipython3",
   "version": "3.10.11"
  },
  "orig_nbformat": 4
 },
 "nbformat": 4,
 "nbformat_minor": 2
}
