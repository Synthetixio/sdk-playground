{
 "cells": [
  {
   "cell_type": "markdown",
   "metadata": {},
   "source": [
    "# Synthetix V3\n"
   ]
  },
  {
   "cell_type": "code",
   "execution_count": null,
   "metadata": {},
   "outputs": [],
   "source": [
    "import os\n",
    "import time\n",
    "from synthetix import Synthetix\n",
    "from synthetix.utils import wei_to_ether, ether_to_wei, format_wei, format_ether\n",
    "from dotenv import load_dotenv\n",
    "\n",
    "load_dotenv()"
   ]
  },
  {
   "cell_type": "code",
   "execution_count": null,
   "metadata": {},
   "outputs": [],
   "source": [
    "snx = Synthetix(\n",
    "    provider_rpc=os.getenv(\"NETWORK_84532_RPC\"),\n",
    "    private_key=os.getenv(\"PRIVATE_KEY\"),\n",
    "    perps_disabled_markets=[6300],\n",
    ")"
   ]
  },
  {
   "cell_type": "markdown",
   "metadata": {},
   "source": [
    "### Setup\n"
   ]
  },
  {
   "cell_type": "code",
   "execution_count": null,
   "metadata": {},
   "outputs": [],
   "source": [
    "# get some contracts\n",
    "weth = snx.contracts[\"WETH\"][\"contract\"]\n",
    "usdc = snx.contracts[\"usdc_mock_collateral\"][\"MintableToken\"][\"contract\"]"
   ]
  },
  {
   "cell_type": "code",
   "execution_count": null,
   "metadata": {},
   "outputs": [],
   "source": [
    "def status():\n",
    "    \"\"\"A function printing some useful information about the connected account\"\"\"\n",
    "    eth_balance = snx.get_eth_balance()\n",
    "    susd_balance = snx.spot.get_balance(market_name=\"sUSD\")\n",
    "    susdc_balance = snx.spot.get_balance(market_name=\"sUSDC\")\n",
    "\n",
    "    usdc_balance = usdc.functions.balanceOf(snx.address).call()\n",
    "    usdc_balance = format_wei(usdc_balance, 6)\n",
    "\n",
    "    print(\n",
    "        f\"\"\"\n",
    "    Perps accounts: {snx.perps.account_ids}\n",
    "    Core accounts: {snx.core.account_ids}\n",
    "        \n",
    "    ETH: {eth_balance['eth']}\n",
    "    WETH ({weth.address}): {eth_balance['weth']}\n",
    "    USDC ({usdc.address}): {usdc_balance}\n",
    "    sUSDC: {susdc_balance}\n",
    "    sUSD: {susd_balance}\n",
    "    \"\"\"\n",
    "    )\n",
    "\n",
    "\n",
    "status()"
   ]
  }
 ],
 "metadata": {
  "kernelspec": {
   "display_name": "env",
   "language": "python",
   "name": "python3"
  },
  "language_info": {
   "codemirror_mode": {
    "name": "ipython",
    "version": 3
   },
   "file_extension": ".py",
   "mimetype": "text/x-python",
   "name": "python",
   "nbconvert_exporter": "python",
   "pygments_lexer": "ipython3",
   "version": "3.10.11"
  },
  "orig_nbformat": 4
 },
 "nbformat": 4,
 "nbformat_minor": 2
}
