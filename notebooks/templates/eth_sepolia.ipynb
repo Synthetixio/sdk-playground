{
 "cells": [
  {
   "cell_type": "markdown",
   "metadata": {},
   "source": [
    "# Synthetix V3\n"
   ]
  },
  {
   "cell_type": "code",
   "execution_count": null,
   "metadata": {},
   "outputs": [],
   "source": [
    "import os\n",
    "import time\n",
    "from synthetix import Synthetix\n",
    "from synthetix.utils import wei_to_ether, ether_to_wei, format_wei, format_ether\n",
    "from synthetix.utils.multicall import write_erc7412\n",
    "from dotenv import load_dotenv\n",
    "\n",
    "load_dotenv()"
   ]
  },
  {
   "cell_type": "code",
   "execution_count": null,
   "metadata": {},
   "outputs": [],
   "source": [
    "snx = Synthetix(\n",
    "    provider_rpc=os.getenv(\"NETWORK_11155111_RPC\"),\n",
    "    private_key=os.getenv(\"PRIVATE_KEY\"),\n",
    "    cannon_config={\n",
    "        \"package\": \"synthetix-omnibus\",\n",
    "        \"version\": \"latest\",\n",
    "        \"preset\": \"main\",\n",
    "    },\n",
    ")"
   ]
  },
  {
   "cell_type": "markdown",
   "metadata": {},
   "source": [
    "### Setup\n"
   ]
  },
  {
   "cell_type": "code",
   "execution_count": null,
   "metadata": {},
   "outputs": [],
   "source": [
    "# get some contracts\n",
    "weth = snx.contracts[\"weth_mock_collateral\"][\"MintableToken\"][\"contract\"]\n",
    "snx.contracts[\"WETH\"] = snx.contracts[\"weth_mock_collateral\"][\"MintableToken\"]\n",
    "susd = snx.contracts[\"system\"][\"USDProxy\"][\"contract\"]"
   ]
  },
  {
   "cell_type": "code",
   "execution_count": null,
   "metadata": {},
   "outputs": [],
   "source": [
    "def status():\n",
    "    \"\"\"A function printing some useful information about the connected account\"\"\"\n",
    "    eth_balance = snx.get_eth_balance()\n",
    "    weth_balance = weth.functions.balanceOf(snx.address).call() / 1e18\n",
    "    susd_balance = susd.functions.balanceOf(snx.address).call() / 1e18\n",
    "\n",
    "    print(\n",
    "        f\"\"\"\n",
    "    ETH: {eth_balance['eth']}\n",
    "    WETH ({weth.address}): {weth_balance}\n",
    "    \n",
    "    sUSD: {susd_balance}\n",
    "    \"\"\"\n",
    "    )\n",
    "\n",
    "\n",
    "status()"
   ]
  }
 ],
 "metadata": {
  "kernelspec": {
   "display_name": "env",
   "language": "python",
   "name": "python3"
  },
  "language_info": {
   "codemirror_mode": {
    "name": "ipython",
    "version": 3
   },
   "file_extension": ".py",
   "mimetype": "text/x-python",
   "name": "python",
   "nbconvert_exporter": "python",
   "pygments_lexer": "ipython3",
   "version": "3.12.5"
  },
  "orig_nbformat": 4
 },
 "nbformat": 4,
 "nbformat_minor": 2
}
