{
 "cells": [
  {
   "cell_type": "markdown",
   "metadata": {},
   "source": [
    "# Synthetix V3\n"
   ]
  },
  {
   "cell_type": "code",
   "execution_count": null,
   "metadata": {},
   "outputs": [],
   "source": [
    "import os\n",
    "import time\n",
    "from synthetix import Synthetix\n",
    "from synthetix.utils import wei_to_ether, ether_to_wei, format_wei, format_ether\n",
    "from dotenv import load_dotenv\n",
    "\n",
    "load_dotenv()"
   ]
  },
  {
   "cell_type": "code",
   "execution_count": null,
   "metadata": {},
   "outputs": [],
   "source": [
    "snx = Synthetix(\n",
    "    provider_rpc=os.getenv(\"LOCAL_RPC\"),\n",
    "    private_key=os.getenv(\"PRIVATE_KEY\"),\n",
    "    network_id=84532,\n",
    "    is_fork=True,\n",
    "    cannon_config={\n",
    "        \"package\": \"synthetix-omnibus\",\n",
    "        \"version\": \"33\",\n",
    "        \"preset\": \"andromeda\",\n",
    "    },\n",
    ")"
   ]
  },
  {
   "cell_type": "markdown",
   "metadata": {},
   "source": [
    "### Setup\n"
   ]
  },
  {
   "cell_type": "code",
   "execution_count": null,
   "metadata": {},
   "outputs": [],
   "source": [
    "# create some needed contracts\n",
    "weth = snx.contracts[\"WETH\"][\"contract\"]\n",
    "\n",
    "# USDC token\n",
    "usdc_package = snx.contracts[\"packages\"][\"usdc_mock_collateral\"][\"MintableToken\"]\n",
    "usdc = snx.web3.eth.contract(address=usdc_package[\"address\"], abi=usdc_package[\"abi\"])\n",
    "\n",
    "# aUSDC token\n",
    "ausdc_package = snx.contracts[\"packages\"][\"ausdc_token_mock\"][\"MintableToken\"]\n",
    "ausdc = snx.web3.eth.contract(\n",
    "    address=ausdc_package[\"address\"], abi=ausdc_package[\"abi\"]\n",
    ")\n",
    "\n",
    "# stataUSDC oracle\n",
    "statausdc_oracle_package = snx.contracts[\"packages\"][\"erc_4626_to_assets_ratio_oracle\"][\n",
    "    \"ERC4626ToAssetsRatioOracle\"\n",
    "]\n",
    "statausdc_oracle = snx.web3.eth.contract(\n",
    "    address=statausdc_oracle_package[\"address\"],\n",
    "    abi=statausdc_oracle_package[\"abi\"],\n",
    ")\n",
    "\n",
    "# stataUSDC vault\n",
    "vault_address = statausdc_oracle.functions.VAULT_ADDRESS().call()\n",
    "vault = snx.web3.eth.contract(\n",
    "    address=vault_address,\n",
    "    abi=snx.contracts[\"ERC4626\"][\"abi\"],\n",
    ")"
   ]
  },
  {
   "cell_type": "code",
   "execution_count": null,
   "metadata": {},
   "outputs": [],
   "source": [
    "def status():\n",
    "    \"\"\"A function printing some useful information about the connected account\"\"\"\n",
    "    eth_balance = snx.get_eth_balance()\n",
    "    susd_balance = snx.spot.get_balance(market_name=\"sUSD\")\n",
    "    susdc_balance = snx.spot.get_balance(market_name=\"sUSDC\")\n",
    "\n",
    "    usdc_balance = usdc.functions.balanceOf(snx.address).call()\n",
    "    usdc_balance = format_wei(usdc_balance, 6)\n",
    "\n",
    "    ausdc_balance = ausdc.functions.balanceOf(snx.address).call()\n",
    "    ausdc_balance = format_wei(ausdc_balance, 6)\n",
    "\n",
    "    vault_balance = vault.functions.balanceOf(snx.address).call()\n",
    "    vault_balance = format_wei(vault_balance, 6)\n",
    "\n",
    "    print(\n",
    "        f\"\"\"\n",
    "    Perps accounts: {snx.perps.account_ids}\n",
    "    Core accounts: {snx.core.account_ids}\n",
    "        \n",
    "    ETH: {eth_balance['eth']}\n",
    "    WETH ({weth.address}): {eth_balance['weth']}\n",
    "    USDC ({usdc.address}): {usdc_balance}\n",
    "    sUSDC: {susdc_balance}\n",
    "    sUSD: {susd_balance}\n",
    "    aUSDC: {ausdc_balance}\n",
    "    StataUSDC: {vault_balance}\n",
    "    \"\"\"\n",
    "    )\n",
    "\n",
    "\n",
    "status()"
   ]
  }
 ],
 "metadata": {
  "kernelspec": {
   "display_name": "env",
   "language": "python",
   "name": "python3"
  },
  "language_info": {
   "codemirror_mode": {
    "name": "ipython",
    "version": 3
   },
   "file_extension": ".py",
   "mimetype": "text/x-python",
   "name": "python",
   "nbconvert_exporter": "python",
   "pygments_lexer": "ipython3",
   "version": "3.10.11"
  },
  "orig_nbformat": 4
 },
 "nbformat": 4,
 "nbformat_minor": 2
}
