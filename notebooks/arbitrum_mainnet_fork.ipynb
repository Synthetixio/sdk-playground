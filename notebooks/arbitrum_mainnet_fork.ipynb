{
 "cells": [
  {
   "cell_type": "markdown",
   "metadata": {},
   "source": [
    "# Synthetix V3\n"
   ]
  },
  {
   "cell_type": "code",
   "execution_count": 1,
   "metadata": {},
   "outputs": [
    {
     "data": {
      "text/plain": [
       "True"
      ]
     },
     "execution_count": 1,
     "metadata": {},
     "output_type": "execute_result"
    }
   ],
   "source": [
    "import os\n",
    "import time\n",
    "from synthetix import Synthetix\n",
    "from synthetix.utils import wei_to_ether, ether_to_wei, format_wei, format_ether\n",
    "from dotenv import load_dotenv\n",
    "\n",
    "load_dotenv()"
   ]
  },
  {
   "cell_type": "code",
   "execution_count": 2,
   "metadata": {},
   "outputs": [
    {
     "name": "stderr",
     "output_type": "stream",
     "text": [
      "2024-09-09 13:59:12,570 - INFO - Using RPC signer: 0xf39Fd6e51aad88F6F4ce6aB8827279cffFb92266\n",
      "2024-09-09 13:59:12,936 - INFO - Loading cannon contracts at ipfs hash ipfs://QmRK8JmmrvknXPbitgzSkgjUNK914zvF6bN62UTHdsQNrm\n",
      "2024-09-09 13:59:15,115 - INFO - Fetching Pyth data for 30 markets\n",
      "2024-09-09 13:59:15,829 - INFO - Multicollateral perps is enabled\n"
     ]
    }
   ],
   "source": [
    "snx = Synthetix(\n",
    "    provider_rpc=os.getenv(\"LOCAL_RPC\"),\n",
    "    network_id=42161,\n",
    "    is_fork=True,\n",
    "    request_kwargs={\"timeout\": 120},\n",
    "    ipfs_gateway=\"http://localhost:8080/ipfs/\",\n",
    "    cannon_config={\n",
    "        \"ipfs_hash\": \"QmRK8JmmrvknXPbitgzSkgjUNK914zvF6bN62UTHdsQNrm\",\n",
    "        # \"package\": \"synthetix-omnibus\",\n",
    "        # \"version\": \"18\",\n",
    "        # \"preset\": \"main\",\n",
    "    },\n",
    ")"
   ]
  },
  {
   "cell_type": "markdown",
   "metadata": {},
   "source": [
    "### Setup\n"
   ]
  },
  {
   "cell_type": "code",
   "execution_count": 3,
   "metadata": {},
   "outputs": [],
   "source": [
    "# get some contracts\n",
    "weth = snx.contracts[\"WETH\"][\"contract\"]\n",
    "usdc = snx.contracts[\"USDC\"][\"contract\"]\n",
    "tbtc = snx.contracts[\"tBTC\"][\"contract\"]\n",
    "wsol = snx.contracts[\"WSOL\"][\"contract\"]"
   ]
  },
  {
   "cell_type": "code",
   "execution_count": 4,
   "metadata": {},
   "outputs": [
    {
     "name": "stdout",
     "output_type": "stream",
     "text": [
      "\n",
      "    Perps accounts: []\n",
      "    Core accounts: [170141183460469231731687303715884106493]\n",
      "        \n",
      "    ETH: 9896.991943366944\n",
      "    WETH (0x82aF49447D8a07e3bd95BD0d56f35241523fBab1): 100.0\n",
      "    USDC (0xaf88d065e77c8cC2239327C5EDb3A432268e5831): 500000.0\n",
      "    sUSDC: 0.0\n",
      "    sUSD: 100000.0\n",
      "    \n",
      "    tBTC: 2.0\n",
      "    stBTC: 0.0\n",
      "    WSOL: 10.0\n",
      "    sWSOL: 0.0\n",
      "    \n"
     ]
    }
   ],
   "source": [
    "def status():\n",
    "    \"\"\"A function printing some useful information about the connected account\"\"\"\n",
    "    eth_balance = snx.get_eth_balance()\n",
    "    susd_balance = snx.spot.get_balance(market_name=\"sUSD\")\n",
    "    susdc_balance = snx.spot.get_balance(market_name=\"sUSDC\")\n",
    "    stbtc_balance = snx.spot.get_balance(market_name=\"stBTC\")\n",
    "    swsol_balance = snx.spot.get_balance(market_name=\"swSOL\")\n",
    "\n",
    "    usdc_balance = usdc.functions.balanceOf(snx.address).call()\n",
    "    usdc_balance = format_wei(usdc_balance, 6)\n",
    "\n",
    "    tbtc_balance = tbtc.functions.balanceOf(snx.address).call()\n",
    "    tbtc_balance = format_wei(tbtc_balance, 18)\n",
    "\n",
    "    wsol_balance = wsol.functions.balanceOf(snx.address).call()\n",
    "    wsol_balance = format_wei(wsol_balance, 9)\n",
    "\n",
    "    print(\n",
    "        f\"\"\"\n",
    "    Perps accounts: {snx.perps.account_ids}\n",
    "    Core accounts: {snx.core.account_ids}\n",
    "        \n",
    "    ETH: {eth_balance['eth']}\n",
    "    WETH ({weth.address}): {eth_balance['weth']}\n",
    "    USDC ({usdc.address}): {usdc_balance}\n",
    "    sUSDC: {susdc_balance}\n",
    "    sUSD: {susd_balance}\n",
    "    \n",
    "    tBTC: {tbtc_balance}\n",
    "    stBTC: {stbtc_balance}\n",
    "    WSOL: {wsol_balance}\n",
    "    sWSOL: {swsol_balance}\n",
    "    \"\"\"\n",
    "    )\n",
    "\n",
    "\n",
    "status()"
   ]
  },
  {
   "cell_type": "code",
   "execution_count": 6,
   "metadata": {},
   "outputs": [
    {
     "data": {
      "text/plain": [
       "['BTC',\n",
       " 'ETH',\n",
       " 'SOL',\n",
       " 'WIF',\n",
       " 'AAVE',\n",
       " 'ADA',\n",
       " 'ARB',\n",
       " 'AVAX',\n",
       " 'BCH',\n",
       " 'BNB',\n",
       " 'CRV',\n",
       " 'DOGE',\n",
       " 'DYDX',\n",
       " 'GMX',\n",
       " 'LINK',\n",
       " 'LTC',\n",
       " 'MKR',\n",
       " 'NEAR',\n",
       " 'OP',\n",
       " 'ORDI',\n",
       " 'PEPE',\n",
       " 'POL',\n",
       " 'PYTH',\n",
       " 'RUNE',\n",
       " 'SHIB',\n",
       " 'STX',\n",
       " 'TIA',\n",
       " 'UNI',\n",
       " 'XLM',\n",
       " 'XRP']"
      ]
     },
     "execution_count": 6,
     "metadata": {},
     "output_type": "execute_result"
    }
   ],
   "source": [
    "list(snx.perps.markets_by_name.keys())"
   ]
  },
  {
   "cell_type": "code",
   "execution_count": null,
   "metadata": {},
   "outputs": [],
   "source": []
  }
 ],
 "metadata": {
  "kernelspec": {
   "display_name": "env",
   "language": "python",
   "name": "python3"
  },
  "language_info": {
   "codemirror_mode": {
    "name": "ipython",
    "version": 3
   },
   "file_extension": ".py",
   "mimetype": "text/x-python",
   "name": "python",
   "nbconvert_exporter": "python",
   "pygments_lexer": "ipython3",
   "version": "3.10.11"
  },
  "orig_nbformat": 4
 },
 "nbformat": 4,
 "nbformat_minor": 2
}
