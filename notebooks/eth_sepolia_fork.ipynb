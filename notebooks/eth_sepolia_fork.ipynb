{
 "cells": [
  {
   "cell_type": "markdown",
   "metadata": {},
   "source": [
    "# Synthetix V3\n"
   ]
  },
  {
   "cell_type": "code",
   "execution_count": 13,
   "metadata": {},
   "outputs": [
    {
     "data": {
      "text/plain": [
       "True"
      ]
     },
     "execution_count": 13,
     "metadata": {},
     "output_type": "execute_result"
    }
   ],
   "source": [
    "import os\n",
    "import time\n",
    "from synthetix import Synthetix\n",
    "from synthetix.utils import wei_to_ether, ether_to_wei, format_wei, format_ether\n",
    "from synthetix.utils.multicall import call_erc7412, multicall_erc7412\n",
    "from dotenv import load_dotenv\n",
    "\n",
    "load_dotenv()"
   ]
  },
  {
   "cell_type": "code",
   "execution_count": 14,
   "metadata": {},
   "outputs": [
    {
     "name": "stderr",
     "output_type": "stream",
     "text": [
      "2024-07-25 15:46:29,107 - INFO - Using RPC signer: 0xf39Fd6e51aad88F6F4ce6aB8827279cffFb92266\n",
      "2024-07-25 15:46:29,217 - INFO - Loading cannon contracts at ipfs hash ipfs://QmdsxSMNuz2EvRY98yWsSbiFd1me68C59h5Ftfv5k13ULG\n"
     ]
    }
   ],
   "source": [
    "snx = Synthetix(\n",
    "    provider_rpc=os.getenv(\"LOCAL_RPC\"),\n",
    "    network_id=11155111,\n",
    "    is_fork=True,\n",
    "    request_kwargs={\"timeout\": 120},\n",
    "    # private_key=os.getenv(\"PRIVATE_KEY\"),\n",
    "    # cannon_config={\n",
    "    #     \"package\": \"synthetix-omnibus\",\n",
    "    #     \"version\": \"latest\",\n",
    "    #     \"preset\": \"main\",\n",
    "    # },\n",
    "    # carina deployment\n",
    "    # cannon_config={\"ipfs_hash\": \"QmWNC8PGBTwXc2DgjVXDpN1A9TxNR9UusKyyoyNmm2j982\"},\n",
    "    # local deployment\n",
    "    ipfs_gateway=\"http://127.0.0.1:8080/ipfs/\",\n",
    "    cannon_config={\"ipfs_hash\": \"QmdsxSMNuz2EvRY98yWsSbiFd1me68C59h5Ftfv5k13ULG\"},\n",
    ")"
   ]
  },
  {
   "cell_type": "code",
   "execution_count": null,
   "metadata": {},
   "outputs": [],
   "source": [
    "snx.perps.markets_by_id"
   ]
  },
  {
   "cell_type": "code",
   "execution_count": null,
   "metadata": {},
   "outputs": [],
   "source": [
    "snx.perps.market_meta[3][\"config\"][\"pyth_publish_time_min\"]"
   ]
  },
  {
   "cell_type": "code",
   "execution_count": null,
   "metadata": {},
   "outputs": [],
   "source": [
    "snx.perps.market_meta[3][\"config\"][\"pyth_publish_time_max\"]"
   ]
  },
  {
   "cell_type": "code",
   "execution_count": null,
   "metadata": {},
   "outputs": [],
   "source": [
    "snx.contracts.keys()"
   ]
  },
  {
   "cell_type": "code",
   "execution_count": null,
   "metadata": {},
   "outputs": [],
   "source": [
    "from synthetix.contracts import fetch_raw_deploy_from_ipfs\n",
    "import json\n",
    "\n",
    "raw_data = fetch_raw_deploy_from_ipfs(\n",
    "    snx, \"QmYNLUWFfhvotaSNgKg57uArqriZsPWGaspNzUAuDd5AfC\"\n",
    ")\n",
    "raw_json = json.dumps(raw_data)\n",
    "raw_json"
   ]
  },
  {
   "cell_type": "code",
   "execution_count": 3,
   "metadata": {},
   "outputs": [],
   "source": [
    "def find_contract_with_function(contracts, function_signature):\n",
    "    def search_recursive(item, path=[]):\n",
    "        if isinstance(item, dict):\n",
    "            if \"contract\" in item and \"abi\" in item and \"address\" in item:\n",
    "                # This is a contract\n",
    "                contract = item[\"contract\"]\n",
    "                try:\n",
    "                    function = contract.get_function_by_signature(function_signature)\n",
    "                    if function:\n",
    "                        return \".\".join(path), contract\n",
    "                except Exception as e:\n",
    "                    # If get_function_by_signature raises an exception, we'll just continue\n",
    "                    pass\n",
    "            else:\n",
    "                # This might be a package or a nested structure\n",
    "                for key, value in item.items():\n",
    "                    result = search_recursive(value, path + [key])\n",
    "                    if result:\n",
    "                        return result\n",
    "        return None\n",
    "\n",
    "    result = search_recursive(contracts)\n",
    "    return result if result else (None, None)"
   ]
  },
  {
   "cell_type": "code",
   "execution_count": 4,
   "metadata": {},
   "outputs": [
    {
     "data": {
      "text/plain": [
       "(None, None)"
      ]
     },
     "execution_count": 4,
     "metadata": {},
     "output_type": "execute_result"
    }
   ],
   "source": [
    "find_contract_with_function(snx.contracts, \"0xd684bd92\")"
   ]
  },
  {
   "cell_type": "code",
   "execution_count": null,
   "metadata": {},
   "outputs": [],
   "source": [
    "snx.perps.markets_by_id"
   ]
  },
  {
   "cell_type": "code",
   "execution_count": null,
   "metadata": {},
   "outputs": [],
   "source": [
    "pyth = snx.contracts[\"Pyth\"][\"contract\"]"
   ]
  },
  {
   "cell_type": "code",
   "execution_count": null,
   "metadata": {},
   "outputs": [],
   "source": [
    "snx.perps.market_proxy.functions.getMarketConfiguration().call()"
   ]
  },
  {
   "cell_type": "code",
   "execution_count": null,
   "metadata": {},
   "outputs": [],
   "source": [
    "snx.perps.markets_by_id"
   ]
  },
  {
   "cell_type": "code",
   "execution_count": null,
   "metadata": {},
   "outputs": [],
   "source": [
    "market_configs = call_erc7412(\n",
    "    snx, snx.perps.market_proxy, \"getMarketConfigurationById\", (3,)\n",
    ")"
   ]
  },
  {
   "cell_type": "code",
   "execution_count": null,
   "metadata": {},
   "outputs": [],
   "source": [
    "market_configs"
   ]
  },
  {
   "cell_type": "code",
   "execution_count": null,
   "metadata": {},
   "outputs": [],
   "source": [
    "snx.perps.market_proxy.get_function_by_name(\"getMarketConfigurationById\").abi"
   ]
  },
  {
   "cell_type": "code",
   "execution_count": null,
   "metadata": {},
   "outputs": [],
   "source": [
    "snx.perps.markets_by_name"
   ]
  },
  {
   "cell_type": "code",
   "execution_count": null,
   "metadata": {},
   "outputs": [],
   "source": [
    "snx.contracts[\"system\"][\"USDProxy\"][\"contract\"]"
   ]
  },
  {
   "cell_type": "code",
   "execution_count": null,
   "metadata": {},
   "outputs": [],
   "source": [
    "snx.contracts.keys()"
   ]
  },
  {
   "cell_type": "code",
   "execution_count": null,
   "metadata": {},
   "outputs": [],
   "source": [
    "snx.core.core_proxy.functions.getCollateralConfigurations(False).call()"
   ]
  },
  {
   "cell_type": "code",
   "execution_count": null,
   "metadata": {},
   "outputs": [],
   "source": [
    "snx.perps.market_proxy.functions.minimumCredit(3).call()"
   ]
  },
  {
   "cell_type": "code",
   "execution_count": null,
   "metadata": {},
   "outputs": [],
   "source": [
    "snx.perps.create_account(submit=True)"
   ]
  },
  {
   "cell_type": "code",
   "execution_count": null,
   "metadata": {},
   "outputs": [],
   "source": [
    "snx.perps.account_ids"
   ]
  },
  {
   "cell_type": "code",
   "execution_count": null,
   "metadata": {},
   "outputs": [],
   "source": [
    "snx.perps.modify_collateral(\n",
    "    90000,\n",
    "    collateral_address=snx.contracts[\"system\"][\"USDProxy\"][\"contract\"].address,\n",
    "    market_id=1,\n",
    "    account_id=snx.perps.account_ids[-1],\n",
    "    submit=True,\n",
    ")"
   ]
  },
  {
   "cell_type": "code",
   "execution_count": null,
   "metadata": {},
   "outputs": [],
   "source": [
    "oracle_price = snx.perps.markets_by_id[1][\"oracle_price\"]\n",
    "position_size = ether_to_wei(1 / oracle_price)\n",
    "limit_price = ether_to_wei(oracle_price * 1.01)\n",
    "perps_account_id = snx.perps.account_ids[0]\n",
    "\n",
    "# commit_tx = snx.perps.commit_order(\n",
    "#     position_size,\n",
    "#     market_id=1,\n",
    "#     limit_price=limit_price,\n",
    "#     account_id=perps_account_id,\n",
    "#     submit=True,\n",
    "# )\n",
    "# commit_receipt = snx.wait(commit_tx)"
   ]
  },
  {
   "cell_type": "code",
   "execution_count": null,
   "metadata": {},
   "outputs": [],
   "source": [
    "tx_params = snx._get_tx_params(to=snx.perps.market_proxy.address)\n",
    "tx_params[\"data\"] = snx.perps.market_proxy.encodeABI(\n",
    "    fn_name=\"commitOrder\",\n",
    "    args=[\n",
    "        perps_account_id,\n",
    "        1,\n",
    "        position_size,\n",
    "        limit_price,\n",
    "        0,\n",
    "        [],\n",
    "    ],\n",
    ")\n",
    "\n",
    "# tx_hash = snx.execute_transaction(tx_params)"
   ]
  },
  {
   "cell_type": "code",
   "execution_count": null,
   "metadata": {},
   "outputs": [],
   "source": [
    "tx_params"
   ]
  },
  {
   "cell_type": "code",
   "execution_count": null,
   "metadata": {},
   "outputs": [],
   "source": [
    "tx_hash = snx.execute_transaction(tx_params)"
   ]
  },
  {
   "cell_type": "code",
   "execution_count": null,
   "metadata": {},
   "outputs": [],
   "source": [
    "snx.web3.eth.estimate_gas(tx_params)"
   ]
  },
  {
   "cell_type": "code",
   "execution_count": null,
   "metadata": {},
   "outputs": [],
   "source": [
    "snx.perps.get_open_position(market_id=1)"
   ]
  },
  {
   "cell_type": "code",
   "execution_count": null,
   "metadata": {},
   "outputs": [],
   "source": [
    "snx.perps.get_quote(1, market_id=1)"
   ]
  },
  {
   "cell_type": "code",
   "execution_count": null,
   "metadata": {},
   "outputs": [],
   "source": [
    "tx_params = snx.perps.commit_order(1, market_id=1)"
   ]
  },
  {
   "cell_type": "markdown",
   "metadata": {},
   "source": [
    "### Setup\n"
   ]
  },
  {
   "cell_type": "code",
   "execution_count": 5,
   "metadata": {},
   "outputs": [],
   "source": [
    "# get some contracts\n",
    "weth = snx.contracts[\"weth_mock_collateral\"][\"MintableToken\"][\"contract\"]\n",
    "snx.contracts[\"WETH\"] = snx.contracts[\"weth_mock_collateral\"][\"MintableToken\"]\n",
    "susd = snx.contracts[\"system\"][\"USDProxy\"][\"contract\"]\n",
    "snx_contract = snx.contracts[\"SNX\"][\"contract\"]"
   ]
  },
  {
   "cell_type": "code",
   "execution_count": 6,
   "metadata": {},
   "outputs": [
    {
     "data": {
      "text/plain": [
       "'0x5f75Ea59fC0CF335E09775eB676cd53c1C49Cbf0'"
      ]
     },
     "execution_count": 6,
     "metadata": {},
     "output_type": "execute_result"
    }
   ],
   "source": [
    "weth.address"
   ]
  },
  {
   "cell_type": "code",
   "execution_count": 7,
   "metadata": {},
   "outputs": [
    {
     "name": "stdout",
     "output_type": "stream",
     "text": [
      "\n",
      "    ETH: 10000.0\n",
      "    WETH (0x5f75Ea59fC0CF335E09775eB676cd53c1C49Cbf0): 0.0\n",
      "    SNX (0x079E7E1C0cBFee4B2D2798A9d426009D08b1F9cb): 0.0\n",
      "    \n",
      "    sUSD: 0.0\n",
      "    \n"
     ]
    }
   ],
   "source": [
    "def status():\n",
    "    \"\"\"A function printing some useful information about the connected account\"\"\"\n",
    "    eth_balance = snx.get_eth_balance()\n",
    "    weth_balance = weth.functions.balanceOf(snx.address).call() / 1e18\n",
    "    susd_balance = susd.functions.balanceOf(snx.address).call() / 1e18\n",
    "    snx_balance = snx_contract.functions.balanceOf(snx.address).call() / 1e18\n",
    "\n",
    "    print(\n",
    "        f\"\"\"\n",
    "    ETH: {eth_balance['eth']}\n",
    "    WETH ({weth.address}): {weth_balance}\n",
    "    SNX ({snx_contract.address}): {snx_balance}\n",
    "    \n",
    "    sUSD: {susd_balance}\n",
    "    \"\"\"\n",
    "    )\n",
    "\n",
    "\n",
    "status()"
   ]
  },
  {
   "cell_type": "code",
   "execution_count": null,
   "metadata": {},
   "outputs": [],
   "source": [
    "snx.perps"
   ]
  },
  {
   "cell_type": "code",
   "execution_count": null,
   "metadata": {},
   "outputs": [],
   "source": [
    "snx.perps.market_proxy.all_functions()"
   ]
  },
  {
   "cell_type": "code",
   "execution_count": null,
   "metadata": {},
   "outputs": [],
   "source": [
    "snx.perps.market_proxy.functions.name(0).call()"
   ]
  },
  {
   "cell_type": "code",
   "execution_count": null,
   "metadata": {},
   "outputs": [],
   "source": [
    "snx.perps.market_proxy.functions.getMarketConfiguration().call()"
   ]
  },
  {
   "cell_type": "code",
   "execution_count": null,
   "metadata": {},
   "outputs": [],
   "source": [
    "snx.perps.market_proxy.functions.getMarketDigest(3).call()"
   ]
  },
  {
   "cell_type": "code",
   "execution_count": null,
   "metadata": {},
   "outputs": [],
   "source": [
    "snx.perps.get_margin_info(market_id=3)"
   ]
  },
  {
   "cell_type": "code",
   "execution_count": 10,
   "metadata": {},
   "outputs": [
    {
     "name": "stderr",
     "output_type": "stream",
     "text": [
      "2024-07-25 15:31:57,436 - INFO - Fetching Pyth data for 1 markets\n"
     ]
    }
   ],
   "source": [
    "pyth_feed_id = snx.perps.markets_by_id[3][\"feed_id\"]\n",
    "pyth_data = snx.pyth.get_price_from_ids([pyth_feed_id])"
   ]
  },
  {
   "cell_type": "code",
   "execution_count": 12,
   "metadata": {},
   "outputs": [
    {
     "data": {
      "text/plain": [
       "3174.97447266"
      ]
     },
     "execution_count": 12,
     "metadata": {},
     "output_type": "execute_result"
    }
   ],
   "source": [
    "pyth_data[\"meta\"][pyth_feed_id][\"price\"]"
   ]
  },
  {
   "cell_type": "code",
   "execution_count": 16,
   "metadata": {},
   "outputs": [],
   "source": [
    "pyth = snx.contracts[\"Pyth\"][\"contract\"]"
   ]
  },
  {
   "cell_type": "code",
   "execution_count": null,
   "metadata": {},
   "outputs": [],
   "source": []
  }
 ],
 "metadata": {
  "kernelspec": {
   "display_name": "env",
   "language": "python",
   "name": "python3"
  },
  "language_info": {
   "codemirror_mode": {
    "name": "ipython",
    "version": 3
   },
   "file_extension": ".py",
   "mimetype": "text/x-python",
   "name": "python",
   "nbconvert_exporter": "python",
   "pygments_lexer": "ipython3",
   "version": "3.10.11"
  },
  "orig_nbformat": 4
 },
 "nbformat": 4,
 "nbformat_minor": 2
}
