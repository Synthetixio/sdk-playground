{
 "cells": [
  {
   "cell_type": "markdown",
   "metadata": {},
   "source": [
    "# Synthetix V3\n"
   ]
  },
  {
   "cell_type": "code",
   "execution_count": 1,
   "metadata": {},
   "outputs": [
    {
     "data": {
      "text/plain": [
       "True"
      ]
     },
     "execution_count": 1,
     "metadata": {},
     "output_type": "execute_result"
    }
   ],
   "source": [
    "import os\n",
    "import time\n",
    "from synthetix import Synthetix\n",
    "from synthetix.utils import wei_to_ether, ether_to_wei, format_wei, format_ether\n",
    "from synthetix.utils.multicall import write_erc7412\n",
    "from dotenv import load_dotenv\n",
    "\n",
    "load_dotenv()"
   ]
  },
  {
   "cell_type": "code",
   "execution_count": 2,
   "metadata": {},
   "outputs": [
    {
     "name": "stderr",
     "output_type": "stream",
     "text": [
      "2024-07-25 09:32:37,520 - INFO - Using private key signer: 0x3239a95A9262034ca28b9a03133775f716f119f8\n",
      "2024-07-25 09:32:37,680 - INFO - Setting network_id from RPC chain_id: 11155111\n",
      "2024-07-25 09:32:38,137 - INFO - Loading cannon contracts at ipfs hash ipfs://QmWNC8PGBTwXc2DgjVXDpN1A9TxNR9UusKyyoyNmm2j982\n"
     ]
    }
   ],
   "source": [
    "snx = Synthetix(\n",
    "    provider_rpc=os.getenv(\"NETWORK_11155111_RPC\"),\n",
    "    # provider_rpc=os.getenv(\"NETWORK_84532_RPC\"),\n",
    "    # network_id=11155111,\n",
    "    private_key=os.getenv(\"PRIVATE_KEY\"),\n",
    "    # cannon_config={\n",
    "    #     \"package\": \"synthetix-omnibus\",\n",
    "    #     \"version\": \"latest\",\n",
    "    #     \"preset\": \"main\",\n",
    "    # },\n",
    "    # carina deployment\n",
    "    cannon_config={\"ipfs_hash\": \"QmWNC8PGBTwXc2DgjVXDpN1A9TxNR9UusKyyoyNmm2j982\"},\n",
    ")"
   ]
  },
  {
   "cell_type": "code",
   "execution_count": null,
   "metadata": {},
   "outputs": [],
   "source": [
    "from eth_abi import decode, encode\n",
    "from eth_utils import encode_hex, decode_hex\n",
    "\n",
    "input_data = \"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\"\n",
    "\n",
    "input_data_bytes = decode_hex(input_data)\n",
    "input_types = [\"bytes[]\", \"bytes32[]\", \"uint64\", \"uint64\"]\n",
    "update_data, price_ids, min_publish_time, max_publish_time = decode(\n",
    "    input_types, input_data_bytes\n",
    ")\n",
    "print(\n",
    "    f\"\"\"\n",
    "Update Data: {update_data}\n",
    "Price IDs: {price_ids}\n",
    "Price IDs: {', '.join([encode_hex(price_id) for price_id in price_ids])}\n",
    "Min Publish Time: {min_publish_time}\n",
    "Max Publish Time: {max_publish_time}\n",
    "\"\"\"\n",
    ")"
   ]
  },
  {
   "cell_type": "code",
   "execution_count": null,
   "metadata": {},
   "outputs": [],
   "source": [
    "update_data_formatted = f'[{\"\".join([encode_hex(data) for data in update_data])}]'\n",
    "print(update_data_formatted)"
   ]
  },
  {
   "cell_type": "code",
   "execution_count": null,
   "metadata": {},
   "outputs": [],
   "source": [
    "price_id_formatted = f'[{\"\".join([encode_hex(price_id) for price_id in price_ids])}]'\n",
    "print(price_id_formatted)"
   ]
  },
  {
   "cell_type": "markdown",
   "metadata": {},
   "source": [
    "### Setup\n"
   ]
  },
  {
   "cell_type": "code",
   "execution_count": 3,
   "metadata": {},
   "outputs": [],
   "source": [
    "# get some contracts\n",
    "weth = snx.contracts[\"weth_mock_collateral\"][\"MintableToken\"][\"contract\"]\n",
    "snx.contracts[\"WETH\"] = snx.contracts[\"weth_mock_collateral\"][\"MintableToken\"]\n",
    "susd = snx.contracts[\"system\"][\"USDProxy\"][\"contract\"]"
   ]
  },
  {
   "cell_type": "code",
   "execution_count": 4,
   "metadata": {},
   "outputs": [
    {
     "name": "stdout",
     "output_type": "stream",
     "text": [
      "\n",
      "    ETH: 0.5145630919862608\n",
      "    WETH (0x6167abDeFB6F9FE83860B415db0Da20124246372): 100.0\n",
      "    \n",
      "    sUSD: 0.0\n",
      "    \n"
     ]
    }
   ],
   "source": [
    "def status():\n",
    "    \"\"\"A function printing some useful information about the connected account\"\"\"\n",
    "    eth_balance = snx.get_eth_balance()\n",
    "    weth_balance = weth.functions.balanceOf(snx.address).call() / 1e18\n",
    "    susd_balance = susd.functions.balanceOf(snx.address).call() / 1e18\n",
    "\n",
    "    print(\n",
    "        f\"\"\"\n",
    "    ETH: {eth_balance['eth']}\n",
    "    WETH ({weth.address}): {weth_balance}\n",
    "    \n",
    "    sUSD: {susd_balance}\n",
    "    \"\"\"\n",
    "    )\n",
    "\n",
    "\n",
    "status()"
   ]
  },
  {
   "cell_type": "code",
   "execution_count": 5,
   "metadata": {},
   "outputs": [],
   "source": [
    "# update pyth\n",
    "pyth = snx.contracts[\"Pyth\"][\"contract\"]\n",
    "\n",
    "# price feed\n",
    "price_feed = \"0xff61491a931112ddf1bd8147cd1b641375f79f5825126d665480874634fd0ace\""
   ]
  },
  {
   "cell_type": "code",
   "execution_count": 6,
   "metadata": {},
   "outputs": [
    {
     "data": {
      "text/plain": [
       "1721921355"
      ]
     },
     "execution_count": 6,
     "metadata": {},
     "output_type": "execute_result"
    }
   ],
   "source": [
    "pyth.functions.latestPriceInfoPublishTime(price_feed).call()"
   ]
  },
  {
   "cell_type": "code",
   "execution_count": 7,
   "metadata": {},
   "outputs": [],
   "source": [
    "min_publish_time = 1721921400\n",
    "max_publish_time = min_publish_time + 60"
   ]
  },
  {
   "cell_type": "code",
   "execution_count": 8,
   "metadata": {},
   "outputs": [
    {
     "name": "stderr",
     "output_type": "stream",
     "text": [
      "2024-07-25 09:34:21,461 - INFO - Fetching Pyth data for 1 markets\n"
     ]
    },
    {
     "name": "stdout",
     "output_type": "stream",
     "text": [
      "{'timestamp': 1721921662, 'price_update_data': [b'PNAU\\x01\\x00\\x00\\x00\\x03\\xb8\\x01\\x00\\x00\\x00\\x04\\r\\x00\\x11\\x14\\xf5\\xef\\x83A[X\\xc5\\xa8\\x00\\x12P\\xcc\\xe1627\\xe5Q\\x91\\xc2\\xac\\x8b\\xf8\\xcb\\xca}\\xcab\\x1c9_42\\xd8\\xd7\\xb0\\x8f\\x9f\\xcb0%\\x08\\xa7&\\x1bh}\\x87\\xf31p\\xf8\\x8d7%\\x90\\xde\\xf9O\\xca\\xe7j\\x01\\x03R\\xab;\\x0c\\xfeg8\\x1c`\\x03\\x92\\x1e\\xcdb\\\\W}\\xa7\\xe6\\xa8\\x0c)\\xe0\\xfa\\x047%X\\x83\\x90!\\x85Z\\xa9\\xbf\\xdbWH\\x96\\x91\\xf4\\xf7\\x86\\x80\\xfc\\x16DCC,E}\\xd0#\\xc0F\\xf1\\x0f\\x9d\\x92\\xe2\\x9a\\x9cL\\x01\\x06\\x8b\\x98\\x80V=\\x02\\x01\\xdd\\xef5\\xa6\\x01\\xaa\\xccd\\x9cd\\xd2\\xe4\\x1c\\x13\\xffT@_vg\\xe3\\xc9\\x0eVo\\x1et\\x93^\\x83\\x8b0\\'\\xc4~\\x04\\xbd\\xcb,\\xa58(\\xdd\\xc9\\r\\x9fC\\xa3\\x1a\\x97GFv<\\r\\xec\\xd4\\x01\\x072b\\xff\\xdb\\xbe&\\xca\\x81g8\\xd3\\xdc\\x88\\x06\\xee\\xa4B\\xc3!2\\xc5\\x9dZ\\xf7\\r\\xaa\\x96_\\xbf?\\x89\\x95\\x1b<R%\\xc0\\xdb\\x008\\xcc7\\xcd\\xee;\\x7f\\x90DS\\x95\\x08\\xeb\\x1d\\xddY3\\x92\\x1a\\xc4v\\xbd\\x8f[9\\x01\\x08\\xc1\\x1dK\\xaf6\\x18\\x06\\x04X\\xca\\x16\\x18\\xb6\\xecM\\x0c\\x97\\xc5\\xa2u\\x17\\xe1.MJ1U\\xa2\\xc3o\\xa8`Z\\x1a\\t\\xc4\\xe5\\x82\\xe0\\xe7\\xba\\xa4\\xf1\\xb2)\\xe3\\x9f\\xf3\\x8d\\xe0\\xf9\\x05CbF\\x8f\\x15(\\xcb\\xadG\\xef\\xcc\\x17\\x00\\t\\x99`A\\xbabl\\xc0\\xd2\\xb9\\x1aA#+\\x83sQ\\x90\\x06ja\\x7f[b\\xa0\\xa6+1MO\\xd5\\x1c\\xb6B}!\\\\\\xc7\\xbf4\\x08\\xb9!\\x112\\xbb\\x13k\\xcd\\xd7\\xbd5\\x0b.\\xd6+v\\x18jWO\\x06C\\xc8\\x02\\x00\\n\\xe9E\\xc8]\\x85\\xfa\\xb3\\xd52\\xedR\\x99\\xb4U\\xb0\\xc9<|\\xd5\\xdc\\x91\\xb3<\\x99\\x1eY\\xbdX@m\\x0f#1@\\xd0@\\x1a\\xba\\x862\\xcf\\xd9\\xbe}\\xadW\\x99\\'g\\x1c\\x9b\\xdb\\xc4I\\xbf\\x16\\x8d\\x8e\\xfda-\\xb8\\xb3\\x9a\\x01\\x0b\\x95f\\x8et\\x04\\xecn\\x8d\\xf5\\xeb\\xef\\xf5\\x18\\x05\\xd5\\xa8\\x0f\\xec\\xdc$\\x1e\\xa8?0\\xf5\\xf4\\xd6\\x15W7\\x80\\xda\\x15\\x8c\\x10\\xc8\"oK;\\xb5*T\\xad\\xe9\\x87\\xb8\\xc7\\xb9v\\x87k\\xd9\\xe7\\xb9\\x86\\xd7\\xfc4\\xc3^?\\xaa\"\\x01\\x0c\\x85\\xf3`a\\xba\\xc6\\x8c\\n<\\x8d|\\xb7\\x96\\x1aq\\x9e\\xcau\\xbf^n\\xbb\\xcc\\x9d\\xe3\\xc7\\x99f\\xb5\\x03\\x8a\\'q\\x9a\\xd1\\xb5O\\xd1Y\\xfe\\xde\\xd6\\x0f\\xa8\\xddQ\\xfd\\x89{\\xfe\\x80\\x7f\\xb1K-l\\xb2R4\\x0b\\x15:\\x08\\x18\\x01\\r\\xb3,\"\\xb7\\xa6\\xd9\\xc1\\xde;\\x96\\xd0\\x91\\xe7\\x96\\xb8B\\x1f\\xd0\\'H3\\xb2\\xea\\x07\\xa0)\\xf82\\x84\\xab\\x15\\xbd\\x06\\xdb\\x0f\\x12}x\\x1e\\x8e5*\\xa2\\x11e\\xc260\\xcbO\\xba\\x96\\x82\\x05\\x1eL\\xde\\xfa\\xf7\\xb8l\\xaeR\\x05\\x00\\x0e\\x9f\\x0b\\x05D//\\xc9\\x7f\\t\\xff\\xcc\\xb9\\xdc\\x14\\xd6\\x92\\x00\\x97+\\x12\\xe6wIV9\\xc5\\xb8\\x13%\\xd3\\xd2\\xf3Tq_\\x8f\\xc9\\xa4\\xfay\\x1a\\x16O4j\\xcf\\xb1c\\xd0\\x12Pl\\xe1\\xf1|O\\x06\\xcfT\\xcc\\xa8\\xe3AU\\x00\\x0f\\xe3\\xf9\\xd4Z^e%\\r\\xc5#\\xc7\\x8f?Z\\x10\\xfaKH\\xa0zv[-\\x0f\\x14\\t\\xc8\\x12\\x14\\x03\\xe5\\xf4b\\xb1\\xd1\\x93\\x97\\xdb\\x8d\\xea\\x94bYw\\xaab\\xd3\\x9c\\xb2Z\\x15\\xd6\\xc0$\\xed\\xf3[{\\xd1\\x8a\\xf6m\\x95\\xb8\\x01\\x11\\x1a\\x8d\\xc6\\xa2\\xad41\\x85E;T\\xb7\\x9a\\xcc\\xecS\\xbf\\x10p\\xeb5t\\x7f\\xcb\\x9d4!u\\xf9\\x91oaC9\\x06L\\x83y>\\xc1\\x0f\\xf2\\r)P\\xd1L\\xeb\\xc31\\xd9\\xa1\\xc6k{Z\\x17\\xcc\\xea\\xadq\\'\\x06\\xec\\x00f\\xa2ox\\x00\\x00\\x00\\x00\\x00\\x1a\\xe1\\x01\\xfa\\xed\\xacXQ\\xe3+\\x9b#\\xb5\\xf9A\\x1a\\x8c+\\xacJ\\xae>\\xd4\\xdd{\\x81\\x1d\\xd1\\xa7.\\xa4\\xaaq\\x00\\x00\\x00\\x00\\x042`\\xbd\\x01AUWV\\x00\\x00\\x00\\x00\\x00\\t<\\xfb_\\x00\\x00\\'\\x10\\xd5\\xb6[\\x95J\\x18o\\xec\"\\x95\\xaeb\\xa1\\x0e\\x80\\x9f\\xa1\\x9eV$\\x01\\x00U\\x00\\xffaI\\x1a\\x93\\x11\\x12\\xdd\\xf1\\xbd\\x81G\\xcd\\x1bd\\x13u\\xf7\\x9fX%\\x12mfT\\x80\\x87F4\\xfd\\n\\xce\\x00\\x00\\x00I\\x1d\\x1aV\\xbf\\x00\\x00\\x00\\x00\\x07\\xb2`\\x88\\xff\\xff\\xff\\xf8\\x00\\x00\\x00\\x00f\\xa2ox\\x00\\x00\\x00\\x00f\\xa2ow\\x00\\x00\\x00I\\x86\\xec\\xab\\xb0\\x00\\x00\\x00\\x00\\t\\x197\\xa9\\x0bnGH\\x15\\x12\\xb3\\xc1z\\xa5h\\x9c70\\xe1\\x85Y\\xa0\\xe6\\xb2\\xc9\\xd8{\\xc2\\'l\\x19\\xfdf\\x02\\xcb\\xba\\xfc\\xb9{+\\x0b\\xdcc\\x8c\\x15\\x0b\\xbd\\xb6\\x96\\x98\\x1b\\xd7jx\\xb8/\\xf1>\\x13E\\xb2;\\x9dy\\xa5l\\x934\\xbf\\x0e\\xaf\\x1d\\xb1\\xe77\\xfcBX\\xd6\\\\z\\xb0f\\xd7\\x16%sE\\x1djj\\xea\\xde\\xe7x<\\x9a]\\xc0\\xd5\\xfc\\x17\\xaa\\xda\\xbc\\x83\\xbbd@\\x1e\\x04D\\x9d\\xc9\\xf8q\\xf7\\xd7\\x13^<\\x16\\x80=\\x1fjRG~\\xe2\\x84\\x07\\xcaS#A\\xd6\\x01s\\xc62@:\\x93\\x0fJ\\xe3\\xae\\xc2/ZK\\x9aa\\xc0p\\xf0\\xfb\\xe38\\x851E8!\\x860`\\xce\\x8d\\x95&\\xd4\\xecQ\\x99\\xaf\\x049fA\\xd2j\\xd93d\\x88\\xba[\\xa1(V\\x00\\xb0\\xd2N<\\x1c\\xc5\\xe6bf\\x1c\\x9bD\\xec\\x8e\\x11\\x053\\xff\\x9bq\\x12M:\\xce\\x19J5\\xd3\\x1a\\n\\x9co'], 'meta': {'0xff61491a931112ddf1bd8147cd1b641375f79f5825126d665480874634fd0ace': {'symbol': 'ETH', 'price': 3140.20878015, 'publish_time': 1721921400}}}\n"
     ]
    }
   ],
   "source": [
    "pyth_data = snx.pyth.get_price_from_ids([price_feed], publish_time=min_publish_time)\n",
    "print(pyth_data)"
   ]
  },
  {
   "cell_type": "code",
   "execution_count": 9,
   "metadata": {},
   "outputs": [],
   "source": [
    "# tx params\n",
    "price_ids = [price_feed]\n",
    "update_data = pyth_data[\"price_update_data\"]"
   ]
  },
  {
   "cell_type": "code",
   "execution_count": 10,
   "metadata": {},
   "outputs": [
    {
     "name": "stdout",
     "output_type": "stream",
     "text": [
      "Publish Time: 1721921400\n",
      "Min Publish Time: 1721921400\n",
      "Max Publish Time: 1721921460\n"
     ]
    }
   ],
   "source": [
    "publish_time = pyth_data[\"meta\"][price_feed][\"publish_time\"]\n",
    "print(f\"Publish Time: {publish_time}\")\n",
    "print(f\"Min Publish Time: {min_publish_time}\")\n",
    "print(f\"Max Publish Time: {max_publish_time}\")"
   ]
  },
  {
   "cell_type": "code",
   "execution_count": 14,
   "metadata": {},
   "outputs": [
    {
     "name": "stdout",
     "output_type": "stream",
     "text": [
      "1\n"
     ]
    }
   ],
   "source": [
    "snx.nonce = snx.web3.eth.get_transaction_count(snx.address)\n",
    "tx_params = snx._get_tx_params(to=pyth.address, value=1)\n",
    "tx_params[\"data\"] = pyth.encodeABI(\n",
    "    \"parsePriceFeedUpdatesUnique\",\n",
    "    [update_data, price_ids, min_publish_time, max_publish_time],\n",
    ")\n",
    "\n",
    "tx_params[\"gas\"] = 2000000\n",
    "tx_params[\"gasPrice\"] = 45000000000\n",
    "\n",
    "# signed_txn = snx.web3.eth.account.sign_transaction(\n",
    "#     tx_params, private_key=snx.private_key\n",
    "# )\n",
    "# tx_hash = snx.web3.eth.send_raw_transaction(signed_txn.rawTransaction)\n",
    "\n",
    "tx_hash = snx.execute_transaction(tx_params)\n",
    "tx_receipt = snx.wait(tx_hash)\n",
    "print(tx_receipt[\"status\"])"
   ]
  },
  {
   "cell_type": "code",
   "execution_count": null,
   "metadata": {},
   "outputs": [],
   "source": [
    "snx.nonce = snx.web3.eth.get_transaction_count(snx.address)\n",
    "tx_params = snx._get_tx_params(to=pyth.address, value=1)\n",
    "tx_params[\"data\"] = pyth.encodeABI(\n",
    "    \"parsePriceFeedUpdatesUnique\",\n",
    "    [[], price_ids, min_publish_time, max_publish_time],\n",
    ")\n",
    "\n",
    "tx_params[\"gas\"] = 2000000\n",
    "tx_params[\"gasPrice\"] = 45000000000\n",
    "\n",
    "signed_txn = snx.web3.eth.account.sign_transaction(\n",
    "    tx_params, private_key=snx.private_key\n",
    ")\n",
    "tx_hash = snx.web3.eth.send_raw_transaction(signed_txn.rawTransaction)\n",
    "\n",
    "# tx_hash = snx.execute_transaction(tx_params)\n",
    "tx_receipt = snx.wait(tx_hash)\n",
    "print(tx_receipt[\"status\"])"
   ]
  },
  {
   "cell_type": "code",
   "execution_count": null,
   "metadata": {},
   "outputs": [],
   "source": [
    "snx.nonce = snx.web3.eth.get_transaction_count(snx.address)\n",
    "tx_params = snx._get_tx_params(to=pyth.address, value=1)\n",
    "tx_params[\"data\"] = pyth.encodeABI(\n",
    "    \"parsePriceFeedUpdates\",\n",
    "    [update_data, price_ids, min_publish_time, max_publish_time],\n",
    ")\n",
    "\n",
    "tx_params[\"gas\"] = 2000000\n",
    "tx_params[\"gasPrice\"] = 45000000000\n",
    "\n",
    "signed_txn = snx.web3.eth.account.sign_transaction(\n",
    "    tx_params, private_key=snx.private_key\n",
    ")\n",
    "tx_hash = snx.web3.eth.send_raw_transaction(signed_txn.rawTransaction)\n",
    "\n",
    "# tx_hash = snx.execute_transaction(tx_params)\n",
    "tx_receipt = snx.wait(tx_hash)\n",
    "print(tx_receipt[\"status\"])"
   ]
  },
  {
   "cell_type": "code",
   "execution_count": null,
   "metadata": {},
   "outputs": [],
   "source": [
    "tx_params = write_erc7412(\n",
    "    snx,\n",
    "    pyth,\n",
    "    \"parsePriceFeedUpdatesUnique\",\n",
    "    [[decode_hex(\"0x\")], price_ids, min_publish_time, max_publish_time],\n",
    "    tx_params={\"value\": 1},\n",
    ")"
   ]
  },
  {
   "cell_type": "code",
   "execution_count": null,
   "metadata": {},
   "outputs": [],
   "source": [
    "tx_params = write_erc7412(\n",
    "    snx,\n",
    "    pyth,\n",
    "    \"parsePriceFeedUpdates\",\n",
    "    [update_data, price_ids, min_publish_time, max_publish_time],\n",
    "    tx_params={\"value\": 1},\n",
    ")\n",
    "tx_hash = snx.execute_transaction(tx_params)\n",
    "tx_receipt = snx.wait(tx_hash)\n",
    "print(tx_receipt[\"status\"])"
   ]
  },
  {
   "cell_type": "code",
   "execution_count": null,
   "metadata": {},
   "outputs": [],
   "source": [
    "def find_contract_with_function(contracts, function_signature):\n",
    "    def search_recursive(item, path=[]):\n",
    "        if isinstance(item, dict):\n",
    "            if \"contract\" in item and \"abi\" in item and \"address\" in item:\n",
    "                # This is a contract\n",
    "                contract = item[\"contract\"]\n",
    "                try:\n",
    "                    function = contract.get_function_by_signature(function_signature)\n",
    "                    if function:\n",
    "                        return \".\".join(path), contract\n",
    "                except Exception as e:\n",
    "                    # If get_function_by_signature raises an exception, we'll just continue\n",
    "                    pass\n",
    "            else:\n",
    "                # This might be a package or a nested structure\n",
    "                for key, value in item.items():\n",
    "                    result = search_recursive(value, path + [key])\n",
    "                    if result:\n",
    "                        return result\n",
    "        return None\n",
    "\n",
    "    result = search_recursive(contracts)\n",
    "    return result if result else (None, None)"
   ]
  },
  {
   "cell_type": "code",
   "execution_count": null,
   "metadata": {},
   "outputs": [],
   "source": [
    "find_contract_with_function(snx.contracts, \"0x6ce2251a\")"
   ]
  },
  {
   "cell_type": "code",
   "execution_count": null,
   "metadata": {},
   "outputs": [],
   "source": []
  }
 ],
 "metadata": {
  "kernelspec": {
   "display_name": "env",
   "language": "python",
   "name": "python3"
  },
  "language_info": {
   "codemirror_mode": {
    "name": "ipython",
    "version": 3
   },
   "file_extension": ".py",
   "mimetype": "text/x-python",
   "name": "python",
   "nbconvert_exporter": "python",
   "pygments_lexer": "ipython3",
   "version": "3.10.11"
  },
  "orig_nbformat": 4
 },
 "nbformat": 4,
 "nbformat_minor": 2
}
