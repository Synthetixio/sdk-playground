{
 "cells": [
  {
   "cell_type": "markdown",
   "metadata": {},
   "source": [
    "# Synthetix V3\n"
   ]
  },
  {
   "cell_type": "code",
   "execution_count": 1,
   "metadata": {},
   "outputs": [
    {
     "data": {
      "text/plain": [
       "True"
      ]
     },
     "execution_count": 1,
     "metadata": {},
     "output_type": "execute_result"
    }
   ],
   "source": [
    "import os\n",
    "import time\n",
    "from synthetix import Synthetix\n",
    "from synthetix.utils import wei_to_ether, ether_to_wei, format_wei, format_ether\n",
    "from dotenv import load_dotenv\n",
    "\n",
    "load_dotenv()"
   ]
  },
  {
   "cell_type": "code",
   "execution_count": 2,
   "metadata": {},
   "outputs": [
    {
     "name": "stderr",
     "output_type": "stream",
     "text": [
      "2024-07-24 14:50:39,291 - INFO - Using RPC signer: 0xf39Fd6e51aad88F6F4ce6aB8827279cffFb92266\n",
      "2024-07-24 14:50:39,295 - INFO - Setting network_id from RPC chain_id: 421614\n",
      "2024-07-24 14:50:39,676 - INFO - Loading cannon contracts for synthetix-omnibus:latest@octopus\n",
      "2024-07-24 14:50:44,367 - WARNING - Failed to fetch core accounts: HTTPConnectionPool(host='localhost', port=8545): Max retries exceeded with url: / (Caused by NewConnectionError('<urllib3.connection.HTTPConnection object at 0x136b014e0>: Failed to establish a new connection: [Errno 61] Connection refused'))\n"
     ]
    }
   ],
   "source": [
    "snx = Synthetix(\n",
    "    provider_rpc=os.getenv(\"LOCAL_RPC\"),\n",
    "    is_fork=True,\n",
    "    cannon_config={\n",
    "        \"package\": \"synthetix-omnibus\",\n",
    "        \"version\": \"latest\",\n",
    "        \"preset\": \"octopus\",\n",
    "    },\n",
    ")"
   ]
  },
  {
   "cell_type": "markdown",
   "metadata": {},
   "source": [
    "### Setup\n"
   ]
  },
  {
   "cell_type": "code",
   "execution_count": null,
   "metadata": {},
   "outputs": [],
   "source": [
    "# get some contracts\n",
    "usdx = snx.spot.markets_by_id[0][\"contract\"]\n",
    "weth = snx.contracts[\"WETH\"][\"contract\"]\n",
    "\n",
    "# USDC token\n",
    "usdc_package = snx.contracts[\"usdc_mock_collateral\"][\"MintableToken\"]\n",
    "usdc = snx.web3.eth.contract(address=usdc_package[\"address\"], abi=usdc_package[\"abi\"])\n",
    "\n",
    "# BTC token\n",
    "btc_package = snx.contracts[\"btc_mock_collateral\"][\"MintableToken\"]\n",
    "btc = snx.web3.eth.contract(address=btc_package[\"address\"], abi=btc_package[\"abi\"])"
   ]
  },
  {
   "cell_type": "code",
   "execution_count": null,
   "metadata": {},
   "outputs": [],
   "source": [
    "def status():\n",
    "    \"\"\"A function printing some useful information about the connected account\"\"\"\n",
    "    eth_balance = snx.get_eth_balance()\n",
    "    susd_balance = snx.spot.get_balance(market_name=\"sUSD\")\n",
    "\n",
    "    usdc_balance = usdc.functions.balanceOf(snx.address).call()\n",
    "    usdc_balance = format_wei(usdc_balance, 6)\n",
    "\n",
    "    btc_balance = btc.functions.balanceOf(snx.address).call()\n",
    "    btc_balance = format_wei(btc_balance, 18)\n",
    "\n",
    "    print(\n",
    "        f\"\"\"\n",
    "    Perps accounts: {snx.perps.account_ids}\n",
    "    Core accounts: {snx.core.account_ids}\n",
    "        \n",
    "    ETH: {eth_balance['eth']}\n",
    "    WETH ({weth.address}): {eth_balance['weth']}\n",
    "    sUSD: {susd_balance}\n",
    "    USDC ({usdc.address}): {usdc_balance}\n",
    "    BTC ({btc.address}): {btc_balance}\n",
    "    \"\"\"\n",
    "    )\n",
    "\n",
    "\n",
    "status()"
   ]
  },
  {
   "cell_type": "code",
   "execution_count": null,
   "metadata": {},
   "outputs": [],
   "source": [
    "def find_contract(contracts, signature=None, address=None):\n",
    "    def search_recursive(item, path=[]):\n",
    "        if isinstance(item, dict):\n",
    "            if \"contract\" in item and \"abi\" in item and \"address\" in item:\n",
    "                # This is a contract\n",
    "                contract = item[\"contract\"]\n",
    "\n",
    "                # check the address\n",
    "                if address and item[\"address\"] == address:\n",
    "                    return \".\".join(path), contract\n",
    "\n",
    "                try:\n",
    "                    function = contract.get_function_by_signature(signature)\n",
    "                    if function:\n",
    "                        return \".\".join(path), contract\n",
    "                except Exception as e:\n",
    "                    # If get_function_by_signature raises an exception, we'll just continue\n",
    "                    pass\n",
    "            else:\n",
    "                # This might be a package or a nested structure\n",
    "                for key, value in item.items():\n",
    "                    result = search_recursive(value, path + [key])\n",
    "                    if result:\n",
    "                        return result\n",
    "        return None\n",
    "\n",
    "    result = search_recursive(contracts)\n",
    "    return result if result else (None, None)"
   ]
  },
  {
   "cell_type": "code",
   "execution_count": null,
   "metadata": {},
   "outputs": [],
   "source": [
    "find_contract(snx.contracts, signature=\"0xf65d3e18\")"
   ]
  },
  {
   "cell_type": "code",
   "execution_count": null,
   "metadata": {},
   "outputs": [],
   "source": [
    "contract_name, contract = find_contract(\n",
    "    snx.contracts, address=\"0x1FBbaFB9232247D37aF889210c75BbF29303b833\"\n",
    ")"
   ]
  },
  {
   "cell_type": "code",
   "execution_count": null,
   "metadata": {},
   "outputs": [],
   "source": [
    "contract_name"
   ]
  },
  {
   "cell_type": "code",
   "execution_count": null,
   "metadata": {},
   "outputs": [],
   "source": [
    "contract = snx.contracts[\"perps_gas_oracle_node\"][\"ArbGasPriceOracle\"][\"contract\"]"
   ]
  },
  {
   "cell_type": "code",
   "execution_count": null,
   "metadata": {},
   "outputs": [],
   "source": [
    "arbgas = snx.contracts[\"GasOracle\"][\"contract\"]\n",
    "arbgas"
   ]
  },
  {
   "cell_type": "code",
   "execution_count": null,
   "metadata": {},
   "outputs": [],
   "source": [
    "arbgas.functions.getPricesInWei().call()"
   ]
  },
  {
   "cell_type": "code",
   "execution_count": null,
   "metadata": {},
   "outputs": [],
   "source": []
  }
 ],
 "metadata": {
  "kernelspec": {
   "display_name": "env",
   "language": "python",
   "name": "python3"
  },
  "language_info": {
   "codemirror_mode": {
    "name": "ipython",
    "version": 3
   },
   "file_extension": ".py",
   "mimetype": "text/x-python",
   "name": "python",
   "nbconvert_exporter": "python",
   "pygments_lexer": "ipython3",
   "version": "3.10.11"
  },
  "orig_nbformat": 4
 },
 "nbformat": 4,
 "nbformat_minor": 2
}
