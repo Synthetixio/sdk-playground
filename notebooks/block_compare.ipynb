{
 "cells": [
  {
   "cell_type": "markdown",
   "metadata": {},
   "source": [
    "# Synthetix V3\n"
   ]
  },
  {
   "cell_type": "code",
   "execution_count": 8,
   "metadata": {},
   "outputs": [
    {
     "data": {
      "text/plain": [
       "True"
      ]
     },
     "execution_count": 8,
     "metadata": {},
     "output_type": "execute_result"
    }
   ],
   "source": [
    "import os\n",
    "import time\n",
    "from synthetix import Synthetix\n",
    "from synthetix.utils import wei_to_ether, ether_to_wei, format_wei, format_ether\n",
    "from synthetix.utils.multicall import call_erc7412\n",
    "from dotenv import load_dotenv\n",
    "\n",
    "load_dotenv()"
   ]
  },
  {
   "cell_type": "code",
   "execution_count": 9,
   "metadata": {},
   "outputs": [
    {
     "name": "stderr",
     "output_type": "stream",
     "text": [
      "2024-06-13 09:39:06,561 - INFO - Using provided address without private key: 0x0000000000000000000000000000000000000000\n",
      "2024-06-13 09:39:07,776 - WARNING - Failed to fetch core accounts: 0xb20f76e30000000000000000000000000000000000000000000000000000000000000000\n",
      "2024-06-13 09:39:09,843 - WARNING - Failed to fetch perps accounts: 0xb20f76e30000000000000000000000000000000000000000000000000000000000000000\n",
      "2024-06-13 09:39:11,134 - INFO - Fetching Pyth data for 32 markets\n"
     ]
    }
   ],
   "source": [
    "snx = Synthetix(\n",
    "    provider_rpc=os.getenv(\"NETWORK_84532_RPC\"),\n",
    "    network_id=84532,\n",
    ")"
   ]
  },
  {
   "cell_type": "markdown",
   "metadata": {},
   "source": [
    "### Setup\n"
   ]
  },
  {
   "cell_type": "code",
   "execution_count": 10,
   "metadata": {},
   "outputs": [],
   "source": [
    "# get some contracts\n",
    "weth = snx.contracts[\"WETH\"][\"contract\"]\n",
    "usdc = snx.contracts[\"MintableToken\"][\"contract\"]"
   ]
  },
  {
   "cell_type": "code",
   "execution_count": 11,
   "metadata": {},
   "outputs": [
    {
     "name": "stdout",
     "output_type": "stream",
     "text": [
      "\n",
      "    Perps accounts: []\n",
      "    Core accounts: []\n",
      "        \n",
      "    ETH: 23.700121824322625\n",
      "    WETH (0x4200000000000000000000000000000000000006): 0.0\n",
      "    USDC (0xc43708f8987Df3f3681801e5e640667D86Ce3C30): 0.0\n",
      "    sUSDC: 0.0\n",
      "    sUSD: 0.0\n",
      "    \n"
     ]
    }
   ],
   "source": [
    "def status():\n",
    "    \"\"\"A function printing some useful information about the connected account\"\"\"\n",
    "    eth_balance = snx.get_eth_balance()\n",
    "    susd_balance = snx.spot.get_balance(market_name=\"sUSD\")\n",
    "    susdc_balance = snx.spot.get_balance(market_name=\"sUSDC\")\n",
    "\n",
    "    usdc_balance = usdc.functions.balanceOf(snx.address).call()\n",
    "    usdc_balance = format_wei(usdc_balance, 6)\n",
    "\n",
    "    print(\n",
    "        f\"\"\"\n",
    "    Perps accounts: {snx.perps.account_ids}\n",
    "    Core accounts: {snx.core.account_ids}\n",
    "        \n",
    "    ETH: {eth_balance['eth']}\n",
    "    WETH ({weth.address}): {eth_balance['weth']}\n",
    "    USDC ({usdc.address}): {usdc_balance}\n",
    "    sUSDC: {susdc_balance}\n",
    "    sUSD: {susd_balance}\n",
    "    \"\"\"\n",
    "    )\n",
    "\n",
    "\n",
    "status()"
   ]
  },
  {
   "cell_type": "code",
   "execution_count": 12,
   "metadata": {},
   "outputs": [],
   "source": [
    "account_id = 170141183460469231731687303715884106043\n",
    "BEFORE_BLOCK = 11220900"
   ]
  },
  {
   "cell_type": "code",
   "execution_count": 14,
   "metadata": {},
   "outputs": [
    {
     "name": "stderr",
     "output_type": "stream",
     "text": [
      "2024-06-13 09:39:20,515 - INFO - Using cached Pyth data\n"
     ]
    },
    {
     "data": {
      "text/plain": [
       "{'ETH': {'market_id': 100,\n",
       "  'market_name': 'ETH',\n",
       "  'pnl': 231.26724714914982,\n",
       "  'accrued_funding': 115.53492177897475,\n",
       "  'owed_interest': 0.000395768643723487,\n",
       "  'position_size': -0.412}}"
      ]
     },
     "execution_count": 14,
     "metadata": {},
     "output_type": "execute_result"
    }
   ],
   "source": [
    "snx.perps.get_open_positions(account_id=account_id)"
   ]
  },
  {
   "cell_type": "code",
   "execution_count": 20,
   "metadata": {},
   "outputs": [
    {
     "name": "stdout",
     "output_type": "stream",
     "text": [
      "\n",
      "Pnl: 166.12563143605132\n",
      "Accrued funding: 108.43907493076163\n",
      "Position size: -0.412\n",
      "Owed interest: 0.000336966769097105\n",
      "\n"
     ]
    }
   ],
   "source": [
    "open_position = call_erc7412(\n",
    "    snx,\n",
    "    snx.perps.market_proxy,\n",
    "    \"getOpenPosition\",\n",
    "    (account_id, 100),\n",
    "    block=BEFORE_BLOCK,\n",
    ")\n",
    "\n",
    "print(\n",
    "    f\"\"\"\n",
    "Pnl: {format_wei(open_position[0], 18)}\n",
    "Accrued funding: {format_wei(open_position[1], 18)}\n",
    "Position size: {format_wei(open_position[2], 18)}\n",
    "Owed interest: {format_wei(open_position[3], 18)}\n",
    "\"\"\"\n",
    ")"
   ]
  },
  {
   "cell_type": "code",
   "execution_count": 21,
   "metadata": {},
   "outputs": [
    {
     "name": "stdout",
     "output_type": "stream",
     "text": [
      "\n",
      "Pnl: 232.25994781491707\n",
      "Accrued funding: 115.54225766329078\n",
      "Position size: -0.412\n",
      "Owed interest: 0.000395591112488672\n",
      "\n"
     ]
    }
   ],
   "source": [
    "open_position = call_erc7412(\n",
    "    snx, snx.perps.market_proxy, \"getOpenPosition\", (account_id, 100)\n",
    ")\n",
    "\n",
    "print(\n",
    "    f\"\"\"\n",
    "Pnl: {format_wei(open_position[0], 18)}\n",
    "Accrued funding: {format_wei(open_position[1], 18)}\n",
    "Position size: {format_wei(open_position[2], 18)}\n",
    "Owed interest: {format_wei(open_position[3], 18)}\n",
    "\"\"\"\n",
    ")"
   ]
  },
  {
   "cell_type": "code",
   "execution_count": 23,
   "metadata": {},
   "outputs": [
    {
     "name": "stdout",
     "output_type": "stream",
     "text": [
      "\n",
      "Collateral before: 439.5912759908266\n",
      "Collateral now: 439.5912759908266\n",
      "Available margin before: 605.7169074268779\n",
      "Available margin now: 671.8662342611154\n",
      "Withdrawable margin before: 521.0518176478926\n",
      "Withdrawable margin now: 588.3702406551189\n",
      "Initial margin requirement before: 84.6650897789853\n",
      "Initial margin requirement now: 83.49616418133732\n",
      "Maintenance margin requirement before: 63.30789757312795\n",
      "Maintenance margin requirement now: 62.98907918067757\n",
      "Max liquidation reward before: 5.002322826405647\n",
      "Max liquidation reward now: 5.014101680421006\n",
      "\n"
     ]
    }
   ],
   "source": [
    "#########\n",
    "# create a comparison for all of these calls as well:\n",
    "# total_collateral_value = call_erc7412(\n",
    "#     self.snx,\n",
    "#     self.market_proxy,\n",
    "#     \"totalCollateralValue\",\n",
    "#     (account_id,),\n",
    "#     calls=calls,\n",
    "# )\n",
    "# available_margin = call_erc7412(\n",
    "#     self.snx,\n",
    "#     self.market_proxy,\n",
    "#     \"getAvailableMargin\",\n",
    "#     (account_id,),\n",
    "#     calls=calls,\n",
    "# )\n",
    "# withdrawable_margin = call_erc7412(\n",
    "#     self.snx,\n",
    "#     self.market_proxy,\n",
    "#     \"getWithdrawableMargin\",\n",
    "#     (account_id,),\n",
    "#     calls=calls,\n",
    "# )\n",
    "# (\n",
    "#     initial_margin_requirement,\n",
    "#     maintenance_margin_requirement,\n",
    "#     max_liquidation_reward,\n",
    "# ) = call_erc7412(\n",
    "#     self.snx,\n",
    "#     self.market_proxy,\n",
    "#     \"getRequiredMargins\",\n",
    "#     (account_id,),\n",
    "#     calls=calls,\n",
    "# )\n",
    "#########\n",
    "\n",
    "collateral_before = call_erc7412(\n",
    "    snx,\n",
    "    snx.perps.market_proxy,\n",
    "    \"totalCollateralValue\",\n",
    "    (account_id,),\n",
    "    block=BEFORE_BLOCK,\n",
    ")\n",
    "collateral_now = call_erc7412(\n",
    "    snx, snx.perps.market_proxy, \"totalCollateralValue\", (account_id,)\n",
    ")\n",
    "available_margin_before = call_erc7412(\n",
    "    snx,\n",
    "    snx.perps.market_proxy,\n",
    "    \"getAvailableMargin\",\n",
    "    (account_id,),\n",
    "    block=BEFORE_BLOCK,\n",
    ")\n",
    "available_margin_now = call_erc7412(\n",
    "    snx, snx.perps.market_proxy, \"getAvailableMargin\", (account_id,)\n",
    ")\n",
    "withdrawable_margin_before = call_erc7412(\n",
    "    snx,\n",
    "    snx.perps.market_proxy,\n",
    "    \"getWithdrawableMargin\",\n",
    "    (account_id,),\n",
    "    block=BEFORE_BLOCK,\n",
    ")\n",
    "withdrawable_margin_now = call_erc7412(\n",
    "    snx, snx.perps.market_proxy, \"getWithdrawableMargin\", (account_id,)\n",
    ")\n",
    "(\n",
    "    initial_margin_requirement,\n",
    "    maintenance_margin_requirement,\n",
    "    max_liquidation_reward,\n",
    ") = call_erc7412(\n",
    "    snx,\n",
    "    snx.perps.market_proxy,\n",
    "    \"getRequiredMargins\",\n",
    "    (account_id,),\n",
    "    block=BEFORE_BLOCK,\n",
    ")\n",
    "(\n",
    "    initial_margin_requirement_now,\n",
    "    maintenance_margin_requirement_now,\n",
    "    max_liquidation_reward_now,\n",
    ") = call_erc7412(snx, snx.perps.market_proxy, \"getRequiredMargins\", (account_id,))\n",
    "print(\n",
    "    f\"\"\"\n",
    "Collateral before: {format_wei(collateral_before, 18)}\n",
    "Collateral now: {format_wei(collateral_now, 18)}\n",
    "Available margin before: {format_wei(available_margin_before, 18)}\n",
    "Available margin now: {format_wei(available_margin_now, 18)}\n",
    "Withdrawable margin before: {format_wei(withdrawable_margin_before, 18)}\n",
    "Withdrawable margin now: {format_wei(withdrawable_margin_now, 18)}\n",
    "Initial margin requirement before: {format_wei(initial_margin_requirement, 18)}\n",
    "Initial margin requirement now: {format_wei(initial_margin_requirement_now, 18)}\n",
    "Maintenance margin requirement before: {format_wei(maintenance_margin_requirement, 18)}\n",
    "Maintenance margin requirement now: {format_wei(maintenance_margin_requirement_now, 18)}\n",
    "Max liquidation reward before: {format_wei(max_liquidation_reward, 18)}\n",
    "Max liquidation reward now: {format_wei(max_liquidation_reward_now, 18)}\n",
    "\"\"\"\n",
    ")"
   ]
  },
  {
   "cell_type": "code",
   "execution_count": null,
   "metadata": {},
   "outputs": [],
   "source": []
  }
 ],
 "metadata": {
  "kernelspec": {
   "display_name": "env",
   "language": "python",
   "name": "python3"
  },
  "language_info": {
   "codemirror_mode": {
    "name": "ipython",
    "version": 3
   },
   "file_extension": ".py",
   "mimetype": "text/x-python",
   "name": "python",
   "nbconvert_exporter": "python",
   "pygments_lexer": "ipython3",
   "version": "3.10.11"
  },
  "orig_nbformat": 4
 },
 "nbformat": 4,
 "nbformat_minor": 2
}
